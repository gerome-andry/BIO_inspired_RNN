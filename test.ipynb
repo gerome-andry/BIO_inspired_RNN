{
 "cells": [
  {
   "cell_type": "code",
   "execution_count": null,
   "metadata": {},
   "outputs": [],
   "source": [
    "import torch \n",
    "from stimulus import *\n",
    "from BIRNN import *\n",
    "import matplotlib.pyplot as plt \n",
    "%matplotlib inline\n",
    "memory_size = 128\n",
    "in_emb = memory_size//4\n",
    "mem_lay = 1\n",
    "inputs_dim = 2\n",
    "decisions = 3\n",
    "typeCell = 'BEF'\n",
    "\n",
    "sensor = ResMLP(inputs_dim, in_emb, [64,64,64])\n",
    "actor = ResMLP(memory_size, decisions, [64,64,64])\n",
    "\n",
    "model = SenseMemAct(sensor, actor, in_sz=in_emb, mem_sz=memory_size, \n",
    "                    mem_lay=mem_lay, decisions=decisions, type = typeCell)"
   ]
  },
  {
   "cell_type": "code",
   "execution_count": null,
   "metadata": {},
   "outputs": [],
   "source": [
    "# load model\n",
    "modelfname = f'./results_train/checkpoint_{typeCell}.pth'\n",
    "state = torch.load(modelfname, map_location=torch.device('cpu'))\n",
    "model.load_state_dict(state)\n",
    "print('Model has',torch.sum(torch.tensor([p.numel() for p in model.parameters()])).item(), 'parameters')"
   ]
  },
  {
   "cell_type": "code",
   "execution_count": null,
   "metadata": {},
   "outputs": [],
   "source": [
    "print(model.mem, model.sense, model.act, sep = '\\n\\n')"
   ]
  },
  {
   "cell_type": "code",
   "execution_count": null,
   "metadata": {},
   "outputs": [],
   "source": [
    "# weights of the linear layer that combines memory 'h' to produce bifurcation parameter 'a'\n",
    "# if typeCell != 'GRU':\n",
    "#     print(model.mem.ff_ha.weight.shape)\n",
    "#     w_mat = model.mem.ff_ha.weight.detach()\n",
    "#     plt.imshow(w_mat)\n",
    "#     plt.show()\n",
    "\n",
    "#     u,s,v = torch.linalg.svd(w_mat)\n",
    "#     plt.scatter(torch.arange(len(s)), s)\n",
    "#     plt.ylabel('Ordered singular values')\n",
    "#     plt.show()\n",
    "\n",
    "#     s[1:] = 0\n",
    "#     plt.imshow(u@torch.diag(s)@v)"
   ]
  },
  {
   "cell_type": "code",
   "execution_count": null,
   "metadata": {},
   "outputs": [],
   "source": [
    "stimG = StimGenerator(dt=.1)\n",
    "d_i, d_o = stimG.get_batch_data(1)\n",
    "d_i, d_o = stimG.extend_sim(30, d_i, d_o)\n",
    "# d_i, d_o = stimG.concat_sim(d_i, d_o)\n",
    "\n",
    "plt.plot(d_i[0], label = 'input')\n",
    "plt.plot(d_o[0], label = 'output')\n",
    "plt.legend()\n",
    "plt.show()"
   ]
  },
  {
   "cell_type": "code",
   "execution_count": null,
   "metadata": {},
   "outputs": [],
   "source": [
    "B, L = d_i.shape\n",
    "mod_in = torch.zeros((B,L,2))\n",
    "mod_in[...,0][d_i == 1] = 1\n",
    "mod_in[...,1][d_i != 1] = d_i[d_i!=1]\n",
    "plt.plot(mod_in[0,:,0], label = 'limit signals')\n",
    "plt.plot(mod_in[0,:,1], label = 'pattern signal')\n",
    "plt.legend()\n",
    "plt.show()\n",
    "# pred = model()"
   ]
  },
  {
   "cell_type": "code",
   "execution_count": null,
   "metadata": {},
   "outputs": [],
   "source": [
    "dc = decode_choice(d_o)\n",
    "dc.shape\n",
    "plt.plot(dc[0])\n",
    "plt.title('Expected probabilities through time')\n",
    "plt.show()\n",
    "\n",
    "with torch.no_grad():\n",
    "    pred_c = model(mod_in)\n",
    "    plt.plot(pred_c[0])\n",
    "    plt.title('Predicted probabilities through time') \n",
    "    plt.show()\n",
    "    plt.plot(dc[0] - pred_c[0])\n",
    "    plt.show()"
   ]
  },
  {
   "cell_type": "code",
   "execution_count": null,
   "metadata": {},
   "outputs": [],
   "source": [
    "# dive into memory\n",
    "\n",
    "with torch.no_grad():\n",
    "    if typeCell == 'BEF': \n",
    "        packed = model.forward(x=mod_in, debug_mem=True)\n",
    "        a,b,c,d,e,pred_c, slow_var = packed\n",
    "        print(model.sense.forward(mod_in).shape)\n",
    "    elif typeCell == 'BRC':\n",
    "        a,c,pred_c = model.forward(x=mod_in, debug_mem=True)\n",
    "    else:\n",
    "        pred_c = model.forward(x=mod_in, debug_mem=True)\n",
    "    # model.mem.ff_ha.weight = torch.nn.Parameter(u@torch.diag(s)@v)\n",
    "    # pred_pc = model.forward(x=mod_in, debug_mem=True)\n",
    "\n",
    "for i in range(0,128,8):\n",
    "    plt.clf()\n",
    "    plt.plot(mod_in[0,:,1], label = 'signal')\n",
    "    plt.plot(pred_c[0,:,i], label= 'memory')\n",
    "    plt.plot(slow_var[0,:,i], label= 'slow_var')\n",
    "    if typeCell != 'GRU':\n",
    "        plt.plot(a[0,:,i], label= 'a')\n",
    "        plt.plot(c[0,:,i], label= 'c')\n",
    "        if typeCell == 'BEF':\n",
    "            plt.plot(b[0,:,i], label= 'b')\n",
    "            plt.plot(d[0,:,i], label= 'd')\n",
    "            plt.plot(e[0,:,i], label= 'e')\n",
    "    \n",
    "    plt.legend()\n",
    "    # plt.plot(pred_pc[0,:,i])\n",
    "    plt.show()\n"
   ]
  },
  {
   "cell_type": "markdown",
   "metadata": {},
   "source": [
    "### Generate animation of Phase plane as a function of timesteps for BEF cell"
   ]
  },
  {
   "cell_type": "code",
   "execution_count": null,
   "metadata": {},
   "outputs": [],
   "source": [
    "# Enable interactive plot\n",
    "%matplotlib notebook\n",
    "import matplotlib.pyplot as plt\n",
    "from matplotlib.animation import FuncAnimation\n",
    "def make_phase_portrait_animation(model,input_signal,neuron_nb):\n",
    "    # model needs to have a BEF memory cell\n",
    "    # input signal of shape (Batch size,sequence length,2) \n",
    "    # neuron number <nb memory cells\n",
    "    fig, ax = plt.subplots()\n",
    "\n",
    "    hfs = torch.meshgrid(torch.linspace(-1.5,1.5, 100), torch.linspace(-.5,6,100), indexing = 'ij')\n",
    "    hfs = torch.cat((hfs[0].unsqueeze(0), hfs[1].unsqueeze(0)))\n",
    "\n",
    "    ax.set_xlim(-0.5, 6)\n",
    "    ax.set_ylim(-1.5, 1.5)\n",
    "\n",
    "    ## sense input \n",
    "    B, L, N = input_signal.shape  \n",
    "    inputs = model.sense(input_signal.reshape((-1, N))).reshape((B,L,-1))\n",
    "\n",
    "    ## define model\n",
    "    def transition(hf, hs, pars):\n",
    "        # size (B, V)\n",
    "        a,b,c,d,e,x = pars['a'],pars['b'],pars['c'],pars['d'],pars['e'],pars['x']\n",
    "        hfn = hf * (1-c) + c*torch.tanh(x + (a + b*hf**2 - hs)*hf) #0 input response\n",
    "        hsn = hs*(1-d) + d*(e*hf)**4\n",
    "\n",
    "        return hfn, hsn \n",
    "\n",
    "    def animate(frame_num):\n",
    "        step_input = inputs[:,frame_num]\n",
    "        in_emb  = model.mem.ff_im(step_input)\n",
    "        _, _, _, _, _, neuron_inputs = in_emb.split(model.mem.mem_sz, 1)\n",
    "\n",
    "        pars = {'a': a[0,frame_num,neuron_nb],\n",
    "                'b': b[0,frame_num,neuron_nb],\n",
    "                'c': c[0,frame_num,neuron_nb],\n",
    "                'd': d[0,frame_num,neuron_nb],\n",
    "                'e': e[0,frame_num,neuron_nb],\n",
    "                'x': neuron_inputs[0,neuron_nb].item(),\n",
    "                }\n",
    "\n",
    "        hfn, hsn = transition(hfs[0], hfs[1], pars)\n",
    "        ax.clear()\n",
    "        ax.contourf(hfs[1], hfs[0], hfn - hfs[0], 0)\n",
    "        ax.contour(hfs[1], hfs[0], hsn - hfs[1], 0)\n",
    "        ax.set_title(\"neuron : \"+ str(neuron_nb) + \", Time_step : \" +  str(frame_num))\n",
    "        \n",
    "        # Plot trajectory\n",
    "        ax.plot(slow_var[0, :frame_num, neuron_nb], pred_c[0, :frame_num, neuron_nb], 'r', alpha=0.5)\n",
    "        ax.plot(slow_var[0, frame_num, neuron_nb], pred_c[0, frame_num, neuron_nb], 'ro')\n",
    "\n",
    "    anim = FuncAnimation(fig, animate, frames=input_signal.shape[1],interval = 2,repeat = True, repeat_delay = 500)\n",
    "    anim.save(\"phaseplot_animation_neuron\" +str(neuron_nb) +\".gif\", writer='pillow')\n",
    "\n",
    "make_phase_portrait_animation(model,mod_in,69)"
   ]
  }
 ],
 "metadata": {
  "kernelspec": {
   "display_name": "TFE",
   "language": "python",
   "name": "python3"
  },
  "language_info": {
   "codemirror_mode": {
    "name": "ipython",
    "version": 3
   },
   "file_extension": ".py",
   "mimetype": "text/x-python",
   "name": "python",
   "nbconvert_exporter": "python",
   "pygments_lexer": "ipython3",
   "version": "3.10.6"
  },
  "orig_nbformat": 4
 },
 "nbformat": 4,
 "nbformat_minor": 2
}
